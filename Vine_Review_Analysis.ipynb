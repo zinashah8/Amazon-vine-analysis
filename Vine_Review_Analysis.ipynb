{
 "cells": [
  {
   "cell_type": "code",
   "execution_count": null,
   "id": "0d952bcb",
   "metadata": {},
   "outputs": [],
   "source": [
    "import os\n",
    "# Find the latest version of spark 3.0 from http://www.apache.org/dist/spark/ and enter as the spark version\n",
    "# For example:\n",
    "# spark_version = 'spark-3.0.3'\n",
    "spark_version = 'spark-3.2.0'\n",
    "os.environ['SPARK_VERSION']=spark_version\n",
    "\n",
    "# Install Spark and Java\n",
    "!apt-get update\n",
    "!apt-get install openjdk-11-jdk-headless -qq > /dev/null\n",
    "!wget -q http://www.apache.org/dist/spark/$SPARK_VERSION/$SPARK_VERSION-bin-hadoop2.7.tgz\n",
    "!tar xf $SPARK_VERSION-bin-hadoop2.7.tgz\n",
    "!pip install -q findspark\n",
    "\n",
    "# Set Environment Variables\n",
    "import os\n",
    "os.environ[\"JAVA_HOME\"] = \"/usr/lib/jvm/java-11-openjdk-amd64\"\n",
    "os.environ[\"SPARK_HOME\"] = f\"/content/{spark_version}-bin-hadoop2.7\"\n",
    "\n",
    "# Start a SparkSession\n",
    "import findspark\n",
    "findspark.init()"
   ]
  },
  {
   "cell_type": "code",
   "execution_count": null,
   "id": "e5f0111d",
   "metadata": {},
   "outputs": [],
   "source": [
    "# Download the Postgres driver that will allow Spark to interact with Postgres.\n",
    "!wget https://jdbc.postgresql.org/download/postgresql-42.2.16.jar"
   ]
  },
  {
   "cell_type": "code",
   "execution_count": null,
   "id": "ec509e09",
   "metadata": {},
   "outputs": [],
   "source": [
    "from pyspark.sql import SparkSession\n",
    "spark = SparkSession.builder.appName(\"M16-Amazon-Challenge\").config(\"spark.driver.extraClassPath\",\"/content/postgresql-42.2.16.jar\").getOrCreate()"
   ]
  },
  {
   "cell_type": "code",
   "execution_count": null,
   "id": "8afbebc4",
   "metadata": {},
   "outputs": [],
   "source": [
    "from pyspark import SparkFiles\n",
    "url = \"https://s3.amazonaws.com/amazon-reviews-pds/tsv/amazon_reviews_us_Wireless_v1_00.tsv.gz\"\n",
    "spark.sparkContext.addFile(url)"
   ]
  },
  {
   "cell_type": "code",
   "execution_count": null,
   "id": "c413069b",
   "metadata": {},
   "outputs": [],
   "source": [
    "from pyspark.sql.functions import to_date\n",
    "import pyspark.sql.functions as func"
   ]
  },
  {
   "cell_type": "code",
   "execution_count": null,
   "id": "16f7df2d",
   "metadata": {},
   "outputs": [],
   "source": [
    "# Read in the Review dataset as a DataFrame\n",
    "df = spark.read.option(\"encoding\", \"UTF-8\").csv(SparkFiles.get(\"\"), sep=\"\\t\", header=True, inferSchema=True)\n",
    "df.show()"
   ]
  },
  {
   "cell_type": "code",
   "execution_count": null,
   "id": "9f8dcfd2",
   "metadata": {},
   "outputs": [],
   "source": [
    "# Create the vine_table. DataFrame\n",
    "vine_df = df.select(['review_id', 'star_rating', 'helpful_votes', 'total_votes', 'vine', 'verified_purchase'])\n",
    "vine_df.show()"
   ]
  },
  {
   "cell_type": "code",
   "execution_count": null,
   "id": "c86c93fa",
   "metadata": {},
   "outputs": [],
   "source": [
    "# Filter DataFrame for rows with 20 or more votes\n",
    "vine_df1 = vine_df.filter(vine_df.total_votes >= 20)\n",
    "vine_df1.show()"
   ]
  },
  {
   "cell_type": "code",
   "execution_count": null,
   "id": "46e7a9cd",
   "metadata": {},
   "outputs": [],
   "source": [
    "# Filter last DF where the number of helpful_votes divided by total_votes is equal to or greater than 50%.\n",
    "helpful_df = vine_df1.filter((vine_df1.helpful_votes / vine_df1.total_votes) >= 0.5)"
   ]
  },
  {
   "cell_type": "code",
   "execution_count": null,
   "id": "0e868156",
   "metadata": {},
   "outputs": [],
   "source": [
    "# Filter last DF for paid reviews\n",
    "paid_df = helpful_df.filter(helpful_df.vine == 'Y')\n",
    "paid_df.show()"
   ]
  },
  {
   "cell_type": "code",
   "execution_count": null,
   "id": "0fb1ffe0",
   "metadata": {},
   "outputs": [],
   "source": [
    "# Filter for unpaid reviews\n",
    "unpaid_df = helpful_df.filter(helpful_df.vine == 'N')\n",
    "unpaid_df.show()"
   ]
  },
  {
   "cell_type": "code",
   "execution_count": null,
   "id": "08875278",
   "metadata": {},
   "outputs": [],
   "source": [
    "# Count total reviews\n",
    "vine_count = vine_df.count()\n",
    "vine_count"
   ]
  },
  {
   "cell_type": "code",
   "execution_count": null,
   "id": "97eefa7c",
   "metadata": {},
   "outputs": [],
   "source": [
    "# Count helpful reviews\n",
    "helpful_count = helpful_df.count()\n",
    "helpful_count"
   ]
  },
  {
   "cell_type": "code",
   "execution_count": null,
   "id": "901d9804",
   "metadata": {},
   "outputs": [],
   "source": [
    "# Count 5* reviews\n",
    "helpful_5_count = helpful_df.filter(helpful_df.star_rating == 5).count()\n",
    "helpful_5_count"
   ]
  },
  {
   "cell_type": "code",
   "execution_count": null,
   "id": "333668c0",
   "metadata": {},
   "outputs": [],
   "source": [
    "# Paid reviews \n",
    "paid_count = paid_df.count()\n",
    "paid_count"
   ]
  },
  {
   "cell_type": "code",
   "execution_count": null,
   "id": "40595942",
   "metadata": {},
   "outputs": [],
   "source": [
    "# Count paid 5* reviews\n",
    "paid_5_star = paid_df.filter(paid_df.star_rating == 5).count()\n",
    "paid_5_star"
   ]
  },
  {
   "cell_type": "code",
   "execution_count": null,
   "id": "62580a6b",
   "metadata": {},
   "outputs": [],
   "source": [
    "# Percentage of 5* paid reviews\n",
    "percentage_5_paid = paid_5_star / paid_count * 100\n",
    "percentage_5_paid"
   ]
  },
  {
   "cell_type": "code",
   "execution_count": null,
   "id": "96046dc8",
   "metadata": {},
   "outputs": [],
   "source": [
    "# Unpaid reviews\n",
    "unpaid_count = unpaid_df.count()\n",
    "unpaid_count"
   ]
  },
  {
   "cell_type": "code",
   "execution_count": null,
   "id": "c555334a",
   "metadata": {},
   "outputs": [],
   "source": [
    "# Count unpaid 5* reviews\n",
    "unpaid_5_star = unpaid_df.filter(unpaid_df.star_rating == 5).count()\n",
    "unpaid_5_star"
   ]
  },
  {
   "cell_type": "code",
   "execution_count": null,
   "id": "10b8f8ea",
   "metadata": {},
   "outputs": [],
   "source": [
    "# Percentage of 5* unpaid reviews\n",
    "percentage_5_unpaid = unpaid_5_star / unpaid_count * 100\n",
    "percentage_5_unpaid"
   ]
  }
 ],
 "metadata": {
  "kernelspec": {
   "display_name": "Python 3",
   "language": "python",
   "name": "python3"
  },
  "language_info": {
   "codemirror_mode": {
    "name": "ipython",
    "version": 3
   },
   "file_extension": ".py",
   "mimetype": "text/x-python",
   "name": "python",
   "nbconvert_exporter": "python",
   "pygments_lexer": "ipython3",
   "version": "3.7.7"
  }
 },
 "nbformat": 4,
 "nbformat_minor": 5
}
